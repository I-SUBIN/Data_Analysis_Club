{
 "cells": [
  {
   "cell_type": "markdown",
   "metadata": {},
   "source": [
    "# 가스사용량 예측"
   ]
  },
  {
   "cell_type": "markdown",
   "metadata": {},
   "source": [
    "패키지임포트&데이터 불러오기"
   ]
  },
  {
   "cell_type": "code",
   "execution_count": 1,
   "metadata": {},
   "outputs": [],
   "source": [
    "#패키지불러오기\n",
    "import numpy as np\n",
    "import pandas as pd\n",
    "import matplotlib.pyplot as plt\n",
    "from sklearn.linear_model import LinearRegression"
   ]
  },
  {
   "cell_type": "code",
   "execution_count": 2,
   "metadata": {},
   "outputs": [],
   "source": [
    "#데이터 불러오기\n",
    "test = pd.read_csv(\"test.csv\", encoding=\"utf-8\", index_col=0)\n",
    "temp = pd.read_csv(\"ta_20200329144537.csv\", encoding = \"cp949\" , skiprows =7, usecols = ['평균기온(℃)'])\n",
    "temp_test = pd.read_csv(\"ta_20200329204839.csv\", encoding = \"cp949\" , skiprows =7, usecols = ['평균기온(℃)'])\n",
    "sample = pd.read_csv(\"sample_submission.csv\", encoding=\"utf-8\", index_col=0)"
   ]
  },
  {
   "cell_type": "code",
   "execution_count": 3,
   "metadata": {},
   "outputs": [],
   "source": [
    "temp1=temp.values[:-7,:]\n",
    "temp1_test=temp_test.values[5:-7,:]"
   ]
  },
  {
   "cell_type": "code",
   "execution_count": 4,
   "metadata": {},
   "outputs": [
    {
     "name": "stdout",
     "output_type": "stream",
     "text": [
      "x= (113, 1)\n",
      "y= (10000, 113)\n"
     ]
    }
   ],
   "source": [
    "x=temp1\n",
    "y=test.values[:,:]\n",
    "print(\"x=\",x.shape)\n",
    "print(\"y=\",y.shape)"
   ]
  },
  {
   "cell_type": "markdown",
   "metadata": {},
   "source": [
    "선형회귀모델만들기"
   ]
  },
  {
   "cell_type": "code",
   "execution_count": 16,
   "metadata": {},
   "outputs": [],
   "source": [
    "line_fitter = LinearRegression()\n",
    "model=line_fitter.fit(x, y.T)"
   ]
  },
  {
   "cell_type": "code",
   "execution_count": 6,
   "metadata": {
    "scrolled": true
   },
   "outputs": [
    {
     "name": "stdout",
     "output_type": "stream",
     "text": [
      "W= [[-3.06201993]\n",
      " [-2.32832629]\n",
      " [-3.08658326]\n",
      " ...\n",
      " [-3.03092111]\n",
      " [-1.11216643]\n",
      " [-5.91888552]]\n",
      "b= [ 84.66048907  74.10395583  83.46083752 ...  75.99082708  33.03855055\n",
      " 149.90076898]\n",
      "W= (10000, 1)\n",
      "b= (10000, 1)\n"
     ]
    }
   ],
   "source": [
    "W=model.coef_\n",
    "b=model.intercept_.reshape(10000,1)\n",
    "print(\"W=\",model.coef_)\n",
    "print(\"b=\",model.intercept_)\n",
    "print(\"W=\",W.shape)\n",
    "print(\"b=\",b.shape)"
   ]
  },
  {
   "cell_type": "code",
   "execution_count": 7,
   "metadata": {},
   "outputs": [
    {
     "name": "stdout",
     "output_type": "stream",
     "text": [
      "Z= (10000, 113)\n"
     ]
    }
   ],
   "source": [
    "Z=np.dot(W,x.T)+b\n",
    "print(\"Z=\",Z.shape)"
   ]
  },
  {
   "cell_type": "code",
   "execution_count": 8,
   "metadata": {},
   "outputs": [
    {
     "data": {
      "text/plain": [
       "array([[ 18.82706052,   2.90455687,  -0.76986705, ...,  52.50927978,\n",
       "         43.62942197,  25.56350437],\n",
       "       [ 24.04494059,  11.93764388,   9.14365233, ...,  49.65652978,\n",
       "         42.90438354,  29.16725843],\n",
       "       [ 17.09929737,   1.0490644 ,  -2.65483551, ...,  51.05171326,\n",
       "         42.1006218 ,  23.88978055],\n",
       "       ...,\n",
       "       [ 10.82602311,  -4.93476669,  -8.57187203, ...,  44.16615537,\n",
       "         35.37648414,  17.49404956],\n",
       "       [  9.1269724 ,   3.34370698,   2.00910727, ...,  21.36080308,\n",
       "         18.13552045,  11.57373853],\n",
       "       [ 22.64473036,  -8.13347433, -15.23613695, ...,  87.75247105,\n",
       "         70.58770305,  35.6662785 ]])"
      ]
     },
     "execution_count": 8,
     "metadata": {},
     "output_type": "execute_result"
    }
   ],
   "source": [
    "pred=np.dot(W,temp1_test.T)+b\n",
    "pred.reshape(10000,12)"
   ]
  },
  {
   "cell_type": "code",
   "execution_count": 9,
   "metadata": {},
   "outputs": [
    {
     "name": "stdout",
     "output_type": "stream",
     "text": [
      "[[ 18.82706052   2.90455687  -0.76986705 ...  52.50927978  43.62942197\n",
      "   25.56350437]\n",
      " [ 24.04494059  11.93764388   9.14365233 ...  49.65652978  42.90438354\n",
      "   29.16725843]\n",
      " [ 17.09929737   1.0490644   -2.65483551 ...  51.05171326  42.1006218\n",
      "   23.88978055]\n",
      " ...\n",
      " [ 10.82602311  -4.93476669  -8.57187203 ...  44.16615537  35.37648414\n",
      "   17.49404956]\n",
      " [  9.1269724    3.34370698   2.00910727 ...  21.36080308  18.13552045\n",
      "   11.57373853]\n",
      " [ 22.64473036  -8.13347433 -15.23613695 ...  87.75247105  70.58770305\n",
      "   35.6662785 ]]\n"
     ]
    }
   ],
   "source": [
    "print(pred)\n",
    "submission = pd.DataFrame(data=pred, columns=sample.columns, index=sample.index)\n",
    "submission.to_csv('submission.csv')"
   ]
  },
  {
   "cell_type": "code",
   "execution_count": 11,
   "metadata": {},
   "outputs": [
    {
     "data": {
      "text/plain": [
       "array([[ 18.82706052,   2.90455687,  -0.76986705, ...,  52.50927978,\n",
       "         43.62942197,  25.56350437],\n",
       "       [ 24.04494059,  11.93764388,   9.14365233, ...,  49.65652978,\n",
       "         42.90438354,  29.16725843],\n",
       "       [ 17.09929737,   1.0490644 ,  -2.65483551, ...,  51.05171326,\n",
       "         42.1006218 ,  23.88978055],\n",
       "       ...,\n",
       "       [ 10.82602311,  -4.93476669,  -8.57187203, ...,  44.16615537,\n",
       "         35.37648414,  17.49404956],\n",
       "       [  9.1269724 ,   3.34370698,   2.00910727, ...,  21.36080308,\n",
       "         18.13552045,  11.57373853],\n",
       "       [ 22.64473036,  -8.13347433, -15.23613695, ...,  87.75247105,\n",
       "         70.58770305,  35.6662785 ]])"
      ]
     },
     "execution_count": 11,
     "metadata": {},
     "output_type": "execute_result"
    }
   ],
   "source": [
    "#train data불러오기\n",
    "train=pd.read_csv(\"train_data_cleansing.csv\",skiprows =7)\n",
    "y_train=train.values[:,:]\n",
    "pred=np.dot(W,temp1_test.T)+b\n",
    "pred.reshape(10000,12)"
   ]
  },
  {
   "cell_type": "code",
   "execution_count": 12,
   "metadata": {},
   "outputs": [],
   "source": [
    "y1=y[1].reshape(113,1)\n",
    "Z1=Z[1].reshape(113,1)"
   ]
  },
  {
   "cell_type": "code",
   "execution_count": 13,
   "metadata": {},
   "outputs": [
    {
     "data": {
      "text/plain": [
       "[<matplotlib.lines.Line2D at 0x262a5805708>]"
      ]
     },
     "execution_count": 13,
     "metadata": {},
     "output_type": "execute_result"
    },
    {
     "data": {
      "image/png": "[encoded data removed]",
      "text/plain": [
       "<Figure size 432x288 with 1 Axes>"
      ]
     },
     "metadata": {
      "needs_background": "light"
     },
     "output_type": "display_data"
    }
   ],
   "source": [
    "plt.plot(x,y1,'o',color=\"blue\")\n",
    "plt.plot(x,Z1,color=\"red\")"
   ]
  },
  {
   "cell_type": "code",
   "execution_count": 14,
   "metadata": {},
   "outputs": [],
   "source": [
    "def predict(Z, n, x, y):\n",
    "    Zn = Z[n].reshape(113,1)\n",
    "    yn = y[n].reshape(113,1)\n",
    "    plt.plot(x, yn, 'o', color = \"blue\")\n",
    "    plt.plot(x, Zn, color = \"red\")\n",
    "    plt.show()"
   ]
  },
  {
   "cell_type": "code",
   "execution_count": 15,
   "metadata": {},
   "outputs": [
    {
     "data": {
      "image/png": "[encoded data removed]",
      "text/plain": [
       "<Figure size 432x288 with 1 Axes>"
      ]
     },
     "metadata": {
      "needs_background": "light"
     },
     "output_type": "display_data"
    }
   ],
   "source": [
    "predict(Z,1000,x,y)"
   ]
  },
  {
   "cell_type": "code",
   "execution_count": null,
   "metadata": {},
   "outputs": [],
   "source": []
  },
  {
   "cell_type": "code",
   "execution_count": null,
   "metadata": {},
   "outputs": [],
   "source": []
  }
 ],
 "metadata": {
  "kernelspec": {
   "display_name": "Python 3",
   "language": "python",
   "name": "python3"
  },
  "language_info": {
   "codemirror_mode": {
    "name": "ipython",
    "version": 3
   },
   "file_extension": ".py",
   "mimetype": "text/x-python",
   "name": "python",
   "nbconvert_exporter": "python",
   "pygments_lexer": "ipython3",
   "version": "3.7.4"
  }
 },
 "nbformat": 4,
 "nbformat_minor": 2
}
